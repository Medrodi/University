{
  "nbformat": 4,
  "nbformat_minor": 0,
  "metadata": {
    "colab": {
      "provenance": [],
      "authorship_tag": "ABX9TyNH9hdyz+qwICG2A2+4lsKD",
      "include_colab_link": true
    },
    "kernelspec": {
      "name": "python3",
      "display_name": "Python 3"
    },
    "language_info": {
      "name": "python"
    }
  },
  "cells": [
    {
      "cell_type": "markdown",
      "metadata": {
        "id": "view-in-github",
        "colab_type": "text"
      },
      "source": [
        "<a href=\"https://colab.research.google.com/github/Medrodi/University/blob/main/Extra_Tasks/Ex_task_1.ipynb\" target=\"_parent\"><img src=\"https://colab.research.google.com/assets/colab-badge.svg\" alt=\"Open In Colab\"/></a>"
      ]
    },
    {
      "cell_type": "code",
      "execution_count": null,
      "metadata": {
        "id": "X83G10nA4hYi"
      },
      "outputs": [],
      "source": [
        "import random\n",
        "\n",
        "number = int(random.randint(0, 100))\n",
        "\n",
        "\n",
        "p = 0\n",
        "n = True\n",
        "while n == True:\n",
        "    chislo = input('Введите число: ')\n",
        "    if chislo != 'выход':\n",
        "\n",
        "        if chislo.replace('-', '').isdigit():\n",
        "\n",
        "                if int(chislo) > number:\n",
        "                    print('Число больше заданного \\n')\n",
        "                    p += 1\n",
        "                elif int(chislo) < number:\n",
        "                    print('Число меньше заданного \\n')\n",
        "                    p += 1\n",
        "                else:\n",
        "                    print('Вы угадали число \\n количество попыток', p )\n",
        "                    p = 0\n",
        "                    number = int(random.randint(0, 100))\n",
        "\n",
        "\n",
        "    else:\n",
        "        print(\"Игра окончена \")\n",
        "        n = False\n",
        "\n"
      ]
    }
  ]
}